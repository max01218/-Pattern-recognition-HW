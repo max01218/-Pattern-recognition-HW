{
  "cells": [
    {
      "cell_type": "markdown",
      "metadata": {
        "id": "view-in-github",
        "colab_type": "text"
      },
      "source": [
        "<a href=\"https://colab.research.google.com/github/max01218/-Pattern-recognition-HW/blob/main/HW5.ipynb\" target=\"_parent\"><img src=\"https://colab.research.google.com/assets/colab-badge.svg\" alt=\"Open In Colab\"/></a>"
      ]
    },
    {
      "cell_type": "markdown",
      "metadata": {
        "id": "iqDKxRMX2ZzY"
      },
      "source": [
        "This is a companion notebook for the book [Deep Learning with Python, Second Edition](https://www.manning.com/books/deep-learning-with-python-second-edition?a_aid=keras&a_bid=76564dff). For readability, it only contains runnable code blocks and section titles, and omits everything else in the book: text paragraphs, figures, and pseudocode.\n",
        "\n",
        "**If you want to be able to follow what's going on, I recommend reading the notebook side by side with your copy of the book.**\n",
        "\n",
        "This notebook was generated for TensorFlow 2.6."
      ]
    },
    {
      "cell_type": "markdown",
      "metadata": {
        "id": "nlObtMaZ2Zzb"
      },
      "source": [
        "# Fundamentals of machine learning"
      ]
    },
    {
      "cell_type": "markdown",
      "metadata": {
        "id": "ustNZcPH2Zzb"
      },
      "source": [
        "## Generalization: The goal of machine learning"
      ]
    },
    {
      "cell_type": "markdown",
      "metadata": {
        "id": "V5mzqoW42Zzc"
      },
      "source": [
        "### Underfitting and overfitting"
      ]
    },
    {
      "cell_type": "markdown",
      "metadata": {
        "id": "La27QDGP2Zzc"
      },
      "source": [
        "#### Noisy training data"
      ]
    },
    {
      "cell_type": "markdown",
      "metadata": {
        "id": "kHqVnNSs2Zzc"
      },
      "source": [
        "#### Ambiguous features"
      ]
    },
    {
      "cell_type": "markdown",
      "metadata": {
        "id": "0_hm5PiW2Zzc"
      },
      "source": [
        "#### Rare features and spurious correlations"
      ]
    },
    {
      "cell_type": "markdown",
      "metadata": {
        "id": "whXxO03l2Zzd"
      },
      "source": [
        "**Adding white-noise channels or all-zeros channels to MNIST**"
      ]
    },
    {
      "cell_type": "code",
      "execution_count": 1,
      "metadata": {
        "colab": {
          "base_uri": "https://localhost:8080/"
        },
        "id": "ns_jygaa2Zzd",
        "outputId": "5e8bf2df-b867-4928-b451-cd5945b4cf73"
      },
      "outputs": [
        {
          "output_type": "stream",
          "name": "stdout",
          "text": [
            "Downloading data from https://storage.googleapis.com/tensorflow/tf-keras-datasets/mnist.npz\n",
            "11493376/11490434 [==============================] - 0s 0us/step\n",
            "11501568/11490434 [==============================] - 0s 0us/step\n"
          ]
        }
      ],
      "source": [
        "from tensorflow.keras.datasets import mnist\n",
        "import numpy as np\n",
        "\n",
        "(train_images, train_labels), _ = mnist.load_data()\n",
        "train_images = train_images.reshape((60000, 28 * 28))\n",
        "train_images = train_images.astype(\"float32\") / 255\n",
        "\n",
        "train_images_with_noise_channels = np.concatenate(\n",
        "    [train_images, np.random.random((len(train_images), 784))], axis=1)\n",
        "\n",
        "train_images_with_zeros_channels = np.concatenate(\n",
        "    [train_images, np.zeros((len(train_images), 784))], axis=1)"
      ]
    },
    {
      "cell_type": "markdown",
      "metadata": {
        "id": "LqIfyvuQ2Zze"
      },
      "source": [
        "**Training the same model on MNIST data with noise channels or all-zero channels**"
      ]
    },
    {
      "cell_type": "code",
      "execution_count": 2,
      "metadata": {
        "colab": {
          "base_uri": "https://localhost:8080/"
        },
        "id": "FXSsqUYP2Zzf",
        "outputId": "a5bb6dd9-ee9d-45e5-d706-3a96aadcc7e8"
      },
      "outputs": [
        {
          "output_type": "stream",
          "name": "stdout",
          "text": [
            "Epoch 1/10\n",
            "375/375 [==============================] - 11s 29ms/step - loss: 0.6170 - accuracy: 0.8129 - val_loss: 0.2844 - val_accuracy: 0.9112\n",
            "Epoch 2/10\n",
            "375/375 [==============================] - 8s 22ms/step - loss: 0.2475 - accuracy: 0.9232 - val_loss: 0.1717 - val_accuracy: 0.9488\n",
            "Epoch 3/10\n",
            "375/375 [==============================] - 8s 21ms/step - loss: 0.1597 - accuracy: 0.9508 - val_loss: 0.1831 - val_accuracy: 0.9438\n",
            "Epoch 4/10\n",
            "375/375 [==============================] - 9s 24ms/step - loss: 0.1153 - accuracy: 0.9638 - val_loss: 0.1580 - val_accuracy: 0.9507\n",
            "Epoch 5/10\n",
            "375/375 [==============================] - 8s 21ms/step - loss: 0.0842 - accuracy: 0.9739 - val_loss: 0.1456 - val_accuracy: 0.9571\n",
            "Epoch 6/10\n",
            "375/375 [==============================] - 7s 20ms/step - loss: 0.0616 - accuracy: 0.9802 - val_loss: 0.1238 - val_accuracy: 0.9662\n",
            "Epoch 7/10\n",
            "375/375 [==============================] - 8s 20ms/step - loss: 0.0458 - accuracy: 0.9851 - val_loss: 0.1488 - val_accuracy: 0.9575\n",
            "Epoch 8/10\n",
            "375/375 [==============================] - 8s 21ms/step - loss: 0.0348 - accuracy: 0.9893 - val_loss: 0.1203 - val_accuracy: 0.9695\n",
            "Epoch 9/10\n",
            "375/375 [==============================] - 8s 21ms/step - loss: 0.0267 - accuracy: 0.9909 - val_loss: 0.1408 - val_accuracy: 0.9638\n",
            "Epoch 10/10\n",
            "375/375 [==============================] - 8s 23ms/step - loss: 0.0212 - accuracy: 0.9934 - val_loss: 0.1273 - val_accuracy: 0.9712\n",
            "Epoch 1/10\n",
            "375/375 [==============================] - 8s 20ms/step - loss: 0.2917 - accuracy: 0.9147 - val_loss: 0.1574 - val_accuracy: 0.9545\n",
            "Epoch 2/10\n",
            "375/375 [==============================] - 7s 20ms/step - loss: 0.1191 - accuracy: 0.9646 - val_loss: 0.1078 - val_accuracy: 0.9680\n",
            "Epoch 3/10\n",
            "375/375 [==============================] - 8s 21ms/step - loss: 0.0778 - accuracy: 0.9767 - val_loss: 0.0881 - val_accuracy: 0.9725\n",
            "Epoch 4/10\n",
            "375/375 [==============================] - 8s 22ms/step - loss: 0.0572 - accuracy: 0.9830 - val_loss: 0.0902 - val_accuracy: 0.9732\n",
            "Epoch 5/10\n",
            "375/375 [==============================] - 8s 21ms/step - loss: 0.0428 - accuracy: 0.9869 - val_loss: 0.0904 - val_accuracy: 0.9740\n",
            "Epoch 6/10\n",
            "375/375 [==============================] - 8s 21ms/step - loss: 0.0322 - accuracy: 0.9907 - val_loss: 0.0824 - val_accuracy: 0.9776\n",
            "Epoch 7/10\n",
            "375/375 [==============================] - 8s 21ms/step - loss: 0.0248 - accuracy: 0.9925 - val_loss: 0.0872 - val_accuracy: 0.9768\n",
            "Epoch 8/10\n",
            "375/375 [==============================] - 8s 20ms/step - loss: 0.0189 - accuracy: 0.9945 - val_loss: 0.0884 - val_accuracy: 0.9779\n",
            "Epoch 9/10\n",
            "375/375 [==============================] - 8s 21ms/step - loss: 0.0141 - accuracy: 0.9964 - val_loss: 0.0901 - val_accuracy: 0.9774\n",
            "Epoch 10/10\n",
            "375/375 [==============================] - 8s 21ms/step - loss: 0.0109 - accuracy: 0.9970 - val_loss: 0.0936 - val_accuracy: 0.9783\n"
          ]
        }
      ],
      "source": [
        "from tensorflow import keras\n",
        "from tensorflow.keras import layers\n",
        "\n",
        "def get_model():\n",
        "    model = keras.Sequential([\n",
        "        layers.Dense(512, activation=\"relu\"),\n",
        "        layers.Dense(10, activation=\"softmax\")\n",
        "    ])\n",
        "    model.compile(optimizer=\"rmsprop\",\n",
        "                  loss=\"sparse_categorical_crossentropy\",\n",
        "                  metrics=[\"accuracy\"])\n",
        "    return model\n",
        "\n",
        "model = get_model()\n",
        "history_noise = model.fit(\n",
        "    train_images_with_noise_channels, train_labels,\n",
        "    epochs=10,\n",
        "    batch_size=128,\n",
        "    validation_split=0.2)\n",
        "\n",
        "model = get_model()\n",
        "history_zeros = model.fit(\n",
        "    train_images_with_zeros_channels, train_labels,\n",
        "    epochs=10,\n",
        "    batch_size=128,\n",
        "    validation_split=0.2)"
      ]
    },
    {
      "cell_type": "markdown",
      "metadata": {
        "id": "jNoB6UIb2Zzf"
      },
      "source": [
        "**Plotting a validation accuracy comparison**"
      ]
    },
    {
      "cell_type": "code",
      "execution_count": 3,
      "metadata": {
        "colab": {
          "base_uri": "https://localhost:8080/",
          "height": 312
        },
        "id": "PQEGpGSr2Zzg",
        "outputId": "0cee9a7f-315f-4614-b4da-354ae053f0ec"
      },
      "outputs": [
        {
          "output_type": "execute_result",
          "data": {
            "text/plain": [
              "<matplotlib.legend.Legend at 0x7fa5bd141650>"
            ]
          },
          "metadata": {},
          "execution_count": 3
        },
        {
          "output_type": "display_data",
          "data": {
            "text/plain": [
              "<Figure size 432x288 with 1 Axes>"
            ],
            "image/png": "[encoded data removed]"
          },
          "metadata": {
            "needs_background": "light"
          }
        }
      ],
      "source": [
        "import matplotlib.pyplot as plt\n",
        "val_acc_noise = history_noise.history[\"val_accuracy\"]\n",
        "val_acc_zeros = history_zeros.history[\"val_accuracy\"]\n",
        "epochs = range(1, 11)\n",
        "plt.plot(epochs, val_acc_noise, \"b-\",\n",
        "         label=\"Validation accuracy with noise channels\")\n",
        "plt.plot(epochs, val_acc_zeros, \"b--\",\n",
        "         label=\"Validation accuracy with zeros channels\")\n",
        "plt.title(\"Effect of noise channels on validation accuracy\")\n",
        "plt.xlabel(\"Epochs\")\n",
        "plt.ylabel(\"Accuracy\")\n",
        "plt.legend()"
      ]
    },
    {
      "cell_type": "markdown",
      "metadata": {
        "id": "421oxQ1Z2Zzg"
      },
      "source": [
        "### The nature of generalization in deep learning"
      ]
    },
    {
      "cell_type": "markdown",
      "metadata": {
        "id": "KPv0KDXS2Zzg"
      },
      "source": [
        "**Fitting a MNIST model with randomly shuffled labels**"
      ]
    },
    {
      "cell_type": "code",
      "execution_count": 4,
      "metadata": {
        "colab": {
          "base_uri": "https://localhost:8080/"
        },
        "id": "JniVsZW-2Zzg",
        "outputId": "7e6cce0c-8b11-4ed1-e3c1-ea5448d33d4c"
      },
      "outputs": [
        {
          "output_type": "stream",
          "name": "stdout",
          "text": [
            "Epoch 1/100\n",
            "375/375 [==============================] - 5s 13ms/step - loss: 2.3160 - accuracy: 0.1038 - val_loss: 2.3042 - val_accuracy: 0.1080\n",
            "Epoch 2/100\n",
            "375/375 [==============================] - 5s 12ms/step - loss: 2.3001 - accuracy: 0.1170 - val_loss: 2.3150 - val_accuracy: 0.0980\n",
            "Epoch 3/100\n",
            "375/375 [==============================] - 5s 13ms/step - loss: 2.2904 - accuracy: 0.1268 - val_loss: 2.3173 - val_accuracy: 0.0963\n",
            "Epoch 4/100\n",
            "375/375 [==============================] - 5s 12ms/step - loss: 2.2764 - accuracy: 0.1410 - val_loss: 2.3266 - val_accuracy: 0.1042\n",
            "Epoch 5/100\n",
            "375/375 [==============================] - 5s 13ms/step - loss: 2.2590 - accuracy: 0.1555 - val_loss: 2.3429 - val_accuracy: 0.1030\n",
            "Epoch 6/100\n",
            "375/375 [==============================] - 5s 13ms/step - loss: 2.2389 - accuracy: 0.1675 - val_loss: 2.3636 - val_accuracy: 0.0943\n",
            "Epoch 7/100\n",
            "375/375 [==============================] - 5s 13ms/step - loss: 2.2146 - accuracy: 0.1857 - val_loss: 2.3678 - val_accuracy: 0.0966\n",
            "Epoch 8/100\n",
            "375/375 [==============================] - 4s 12ms/step - loss: 2.1867 - accuracy: 0.2011 - val_loss: 2.3901 - val_accuracy: 0.0987\n",
            "Epoch 9/100\n",
            "375/375 [==============================] - 5s 12ms/step - loss: 2.1585 - accuracy: 0.2136 - val_loss: 2.4108 - val_accuracy: 0.1018\n",
            "Epoch 10/100\n",
            "375/375 [==============================] - 5s 13ms/step - loss: 2.1272 - accuracy: 0.2320 - val_loss: 2.4328 - val_accuracy: 0.1016\n",
            "Epoch 11/100\n",
            "375/375 [==============================] - 4s 12ms/step - loss: 2.0957 - accuracy: 0.2463 - val_loss: 2.4482 - val_accuracy: 0.1023\n",
            "Epoch 12/100\n",
            "375/375 [==============================] - 4s 12ms/step - loss: 2.0613 - accuracy: 0.2616 - val_loss: 2.4808 - val_accuracy: 0.1003\n",
            "Epoch 13/100\n",
            "375/375 [==============================] - 5s 13ms/step - loss: 2.0287 - accuracy: 0.2779 - val_loss: 2.5023 - val_accuracy: 0.0948\n",
            "Epoch 14/100\n",
            "375/375 [==============================] - 5s 12ms/step - loss: 1.9941 - accuracy: 0.2935 - val_loss: 2.5412 - val_accuracy: 0.1008\n",
            "Epoch 15/100\n",
            "375/375 [==============================] - 5s 13ms/step - loss: 1.9593 - accuracy: 0.3066 - val_loss: 2.5667 - val_accuracy: 0.0998\n",
            "Epoch 16/100\n",
            "375/375 [==============================] - 5s 12ms/step - loss: 1.9258 - accuracy: 0.3178 - val_loss: 2.5934 - val_accuracy: 0.0975\n",
            "Epoch 17/100\n",
            "375/375 [==============================] - 5s 12ms/step - loss: 1.8918 - accuracy: 0.3343 - val_loss: 2.6321 - val_accuracy: 0.0953\n",
            "Epoch 18/100\n",
            "375/375 [==============================] - 5s 12ms/step - loss: 1.8602 - accuracy: 0.3461 - val_loss: 2.6613 - val_accuracy: 0.0977\n",
            "Epoch 19/100\n",
            "375/375 [==============================] - 5s 13ms/step - loss: 1.8266 - accuracy: 0.3610 - val_loss: 2.6855 - val_accuracy: 0.0978\n",
            "Epoch 20/100\n",
            "375/375 [==============================] - 5s 13ms/step - loss: 1.7943 - accuracy: 0.3739 - val_loss: 2.7412 - val_accuracy: 0.1006\n",
            "Epoch 21/100\n",
            "375/375 [==============================] - 5s 13ms/step - loss: 1.7629 - accuracy: 0.3876 - val_loss: 2.7633 - val_accuracy: 0.0972\n",
            "Epoch 22/100\n",
            "375/375 [==============================] - 5s 12ms/step - loss: 1.7331 - accuracy: 0.3976 - val_loss: 2.8090 - val_accuracy: 0.0972\n",
            "Epoch 23/100\n",
            "375/375 [==============================] - 6s 15ms/step - loss: 1.7040 - accuracy: 0.4103 - val_loss: 2.8412 - val_accuracy: 0.0996\n",
            "Epoch 24/100\n",
            "375/375 [==============================] - 5s 12ms/step - loss: 1.6743 - accuracy: 0.4216 - val_loss: 2.8799 - val_accuracy: 0.0976\n",
            "Epoch 25/100\n",
            "375/375 [==============================] - 5s 12ms/step - loss: 1.6441 - accuracy: 0.4328 - val_loss: 2.9155 - val_accuracy: 0.0978\n",
            "Epoch 26/100\n",
            "375/375 [==============================] - 4s 12ms/step - loss: 1.6148 - accuracy: 0.4425 - val_loss: 2.9589 - val_accuracy: 0.0993\n",
            "Epoch 27/100\n",
            "375/375 [==============================] - 4s 11ms/step - loss: 1.5877 - accuracy: 0.4558 - val_loss: 2.9976 - val_accuracy: 0.0974\n",
            "Epoch 28/100\n",
            "375/375 [==============================] - 4s 11ms/step - loss: 1.5616 - accuracy: 0.4623 - val_loss: 3.0427 - val_accuracy: 0.0943\n",
            "Epoch 29/100\n",
            "375/375 [==============================] - 5s 12ms/step - loss: 1.5374 - accuracy: 0.4719 - val_loss: 3.0865 - val_accuracy: 0.0949\n",
            "Epoch 30/100\n",
            "375/375 [==============================] - 5s 12ms/step - loss: 1.5107 - accuracy: 0.4844 - val_loss: 3.1286 - val_accuracy: 0.0977\n",
            "Epoch 31/100\n",
            "375/375 [==============================] - 5s 13ms/step - loss: 1.4855 - accuracy: 0.4916 - val_loss: 3.1605 - val_accuracy: 0.0950\n",
            "Epoch 32/100\n",
            "375/375 [==============================] - 4s 11ms/step - loss: 1.4607 - accuracy: 0.5000 - val_loss: 3.2205 - val_accuracy: 0.0975\n",
            "Epoch 33/100\n",
            "375/375 [==============================] - 5s 13ms/step - loss: 1.4367 - accuracy: 0.5111 - val_loss: 3.2622 - val_accuracy: 0.0923\n",
            "Epoch 34/100\n",
            "375/375 [==============================] - 5s 12ms/step - loss: 1.4129 - accuracy: 0.5183 - val_loss: 3.3166 - val_accuracy: 0.0971\n",
            "Epoch 35/100\n",
            "375/375 [==============================] - 5s 13ms/step - loss: 1.3893 - accuracy: 0.5256 - val_loss: 3.3548 - val_accuracy: 0.0982\n",
            "Epoch 36/100\n",
            "375/375 [==============================] - 4s 12ms/step - loss: 1.3688 - accuracy: 0.5356 - val_loss: 3.4052 - val_accuracy: 0.1008\n",
            "Epoch 37/100\n",
            "375/375 [==============================] - 5s 13ms/step - loss: 1.3447 - accuracy: 0.5434 - val_loss: 3.4475 - val_accuracy: 0.0956\n",
            "Epoch 38/100\n",
            "375/375 [==============================] - 5s 12ms/step - loss: 1.3250 - accuracy: 0.5500 - val_loss: 3.5128 - val_accuracy: 0.0913\n",
            "Epoch 39/100\n",
            "375/375 [==============================] - 5s 12ms/step - loss: 1.3002 - accuracy: 0.5589 - val_loss: 3.5551 - val_accuracy: 0.0967\n",
            "Epoch 40/100\n",
            "375/375 [==============================] - 5s 13ms/step - loss: 1.2830 - accuracy: 0.5658 - val_loss: 3.5758 - val_accuracy: 0.0989\n",
            "Epoch 41/100\n",
            "375/375 [==============================] - 5s 12ms/step - loss: 1.2581 - accuracy: 0.5740 - val_loss: 3.6207 - val_accuracy: 0.0943\n",
            "Epoch 42/100\n",
            "375/375 [==============================] - 5s 12ms/step - loss: 1.2402 - accuracy: 0.5816 - val_loss: 3.6888 - val_accuracy: 0.0952\n",
            "Epoch 43/100\n",
            "375/375 [==============================] - 5s 12ms/step - loss: 1.2216 - accuracy: 0.5871 - val_loss: 3.7099 - val_accuracy: 0.1003\n",
            "Epoch 44/100\n",
            "375/375 [==============================] - 5s 12ms/step - loss: 1.2025 - accuracy: 0.5954 - val_loss: 3.7890 - val_accuracy: 0.0968\n",
            "Epoch 45/100\n",
            "375/375 [==============================] - 5s 13ms/step - loss: 1.1850 - accuracy: 0.5993 - val_loss: 3.8500 - val_accuracy: 0.0994\n",
            "Epoch 46/100\n",
            "375/375 [==============================] - 4s 12ms/step - loss: 1.1658 - accuracy: 0.6076 - val_loss: 3.9049 - val_accuracy: 0.0972\n",
            "Epoch 47/100\n",
            "375/375 [==============================] - 5s 12ms/step - loss: 1.1477 - accuracy: 0.6144 - val_loss: 3.9481 - val_accuracy: 0.1005\n",
            "Epoch 48/100\n",
            "375/375 [==============================] - 5s 12ms/step - loss: 1.1298 - accuracy: 0.6199 - val_loss: 3.9886 - val_accuracy: 0.0983\n",
            "Epoch 49/100\n",
            "375/375 [==============================] - 5s 12ms/step - loss: 1.1120 - accuracy: 0.6261 - val_loss: 4.0310 - val_accuracy: 0.0948\n",
            "Epoch 50/100\n",
            "375/375 [==============================] - 4s 12ms/step - loss: 1.0928 - accuracy: 0.6335 - val_loss: 4.0949 - val_accuracy: 0.0996\n",
            "Epoch 51/100\n",
            "375/375 [==============================] - 5s 12ms/step - loss: 1.0771 - accuracy: 0.6394 - val_loss: 4.1700 - val_accuracy: 0.0962\n",
            "Epoch 52/100\n",
            "375/375 [==============================] - 4s 12ms/step - loss: 1.0619 - accuracy: 0.6430 - val_loss: 4.2023 - val_accuracy: 0.0979\n",
            "Epoch 53/100\n",
            "375/375 [==============================] - 5s 12ms/step - loss: 1.0460 - accuracy: 0.6504 - val_loss: 4.2459 - val_accuracy: 0.0985\n",
            "Epoch 54/100\n",
            "375/375 [==============================] - 5s 12ms/step - loss: 1.0301 - accuracy: 0.6542 - val_loss: 4.2809 - val_accuracy: 0.0977\n",
            "Epoch 55/100\n",
            "375/375 [==============================] - 5s 12ms/step - loss: 1.0137 - accuracy: 0.6605 - val_loss: 4.3890 - val_accuracy: 0.0932\n",
            "Epoch 56/100\n",
            "375/375 [==============================] - 5s 12ms/step - loss: 0.9987 - accuracy: 0.6653 - val_loss: 4.4175 - val_accuracy: 0.0990\n",
            "Epoch 57/100\n",
            "375/375 [==============================] - 5s 12ms/step - loss: 0.9857 - accuracy: 0.6709 - val_loss: 4.4590 - val_accuracy: 0.1007\n",
            "Epoch 58/100\n",
            "375/375 [==============================] - 5s 12ms/step - loss: 0.9694 - accuracy: 0.6766 - val_loss: 4.5297 - val_accuracy: 0.1007\n",
            "Epoch 59/100\n",
            "375/375 [==============================] - 5s 12ms/step - loss: 0.9563 - accuracy: 0.6810 - val_loss: 4.5988 - val_accuracy: 0.0996\n",
            "Epoch 60/100\n",
            "375/375 [==============================] - 6s 15ms/step - loss: 0.9395 - accuracy: 0.6895 - val_loss: 4.6344 - val_accuracy: 0.0966\n",
            "Epoch 61/100\n",
            "375/375 [==============================] - 5s 13ms/step - loss: 0.9264 - accuracy: 0.6944 - val_loss: 4.7014 - val_accuracy: 0.0999\n",
            "Epoch 62/100\n",
            "375/375 [==============================] - 5s 13ms/step - loss: 0.9152 - accuracy: 0.6968 - val_loss: 4.7673 - val_accuracy: 0.0997\n",
            "Epoch 63/100\n",
            "375/375 [==============================] - 5s 12ms/step - loss: 0.8997 - accuracy: 0.7009 - val_loss: 4.8117 - val_accuracy: 0.0919\n",
            "Epoch 64/100\n",
            "375/375 [==============================] - 5s 13ms/step - loss: 0.8867 - accuracy: 0.7049 - val_loss: 4.8551 - val_accuracy: 0.1015\n",
            "Epoch 65/100\n",
            "375/375 [==============================] - 5s 13ms/step - loss: 0.8745 - accuracy: 0.7088 - val_loss: 4.9390 - val_accuracy: 0.0986\n",
            "Epoch 66/100\n",
            "375/375 [==============================] - 5s 12ms/step - loss: 0.8615 - accuracy: 0.7136 - val_loss: 4.9901 - val_accuracy: 0.0990\n",
            "Epoch 67/100\n",
            "375/375 [==============================] - 5s 12ms/step - loss: 0.8489 - accuracy: 0.7198 - val_loss: 5.0582 - val_accuracy: 0.1007\n",
            "Epoch 68/100\n",
            "375/375 [==============================] - 5s 12ms/step - loss: 0.8366 - accuracy: 0.7223 - val_loss: 5.0908 - val_accuracy: 0.0999\n",
            "Epoch 69/100\n",
            "375/375 [==============================] - 5s 13ms/step - loss: 0.8236 - accuracy: 0.7297 - val_loss: 5.1774 - val_accuracy: 0.0993\n",
            "Epoch 70/100\n",
            "375/375 [==============================] - 4s 11ms/step - loss: 0.8116 - accuracy: 0.7322 - val_loss: 5.2204 - val_accuracy: 0.0967\n",
            "Epoch 71/100\n",
            "375/375 [==============================] - 5s 12ms/step - loss: 0.8003 - accuracy: 0.7355 - val_loss: 5.2951 - val_accuracy: 0.1006\n",
            "Epoch 72/100\n",
            "375/375 [==============================] - 5s 12ms/step - loss: 0.7881 - accuracy: 0.7412 - val_loss: 5.3657 - val_accuracy: 0.0989\n",
            "Epoch 73/100\n",
            "375/375 [==============================] - 4s 11ms/step - loss: 0.7794 - accuracy: 0.7431 - val_loss: 5.4233 - val_accuracy: 0.0987\n",
            "Epoch 74/100\n",
            "375/375 [==============================] - 4s 10ms/step - loss: 0.7677 - accuracy: 0.7475 - val_loss: 5.4928 - val_accuracy: 0.0985\n",
            "Epoch 75/100\n",
            "375/375 [==============================] - 4s 12ms/step - loss: 0.7579 - accuracy: 0.7516 - val_loss: 5.5294 - val_accuracy: 0.0977\n",
            "Epoch 76/100\n",
            "375/375 [==============================] - 5s 13ms/step - loss: 0.7454 - accuracy: 0.7584 - val_loss: 5.6352 - val_accuracy: 0.0991\n",
            "Epoch 77/100\n",
            "375/375 [==============================] - 5s 12ms/step - loss: 0.7363 - accuracy: 0.7578 - val_loss: 5.6425 - val_accuracy: 0.0997\n",
            "Epoch 78/100\n",
            "375/375 [==============================] - 5s 13ms/step - loss: 0.7247 - accuracy: 0.7619 - val_loss: 5.7270 - val_accuracy: 0.1011\n",
            "Epoch 79/100\n",
            "375/375 [==============================] - 5s 12ms/step - loss: 0.7142 - accuracy: 0.7653 - val_loss: 5.8019 - val_accuracy: 0.0968\n",
            "Epoch 80/100\n",
            "375/375 [==============================] - 5s 13ms/step - loss: 0.7032 - accuracy: 0.7696 - val_loss: 5.8661 - val_accuracy: 0.0976\n",
            "Epoch 81/100\n",
            "375/375 [==============================] - 5s 12ms/step - loss: 0.6958 - accuracy: 0.7726 - val_loss: 5.9318 - val_accuracy: 0.0972\n",
            "Epoch 82/100\n",
            "375/375 [==============================] - 5s 12ms/step - loss: 0.6835 - accuracy: 0.7769 - val_loss: 5.9775 - val_accuracy: 0.0969\n",
            "Epoch 83/100\n",
            "375/375 [==============================] - 5s 12ms/step - loss: 0.6760 - accuracy: 0.7796 - val_loss: 6.0447 - val_accuracy: 0.0982\n",
            "Epoch 84/100\n",
            "375/375 [==============================] - 5s 12ms/step - loss: 0.6655 - accuracy: 0.7840 - val_loss: 6.0956 - val_accuracy: 0.0980\n",
            "Epoch 85/100\n",
            "375/375 [==============================] - 4s 11ms/step - loss: 0.6580 - accuracy: 0.7843 - val_loss: 6.1743 - val_accuracy: 0.0962\n",
            "Epoch 86/100\n",
            "375/375 [==============================] - 4s 12ms/step - loss: 0.6455 - accuracy: 0.7914 - val_loss: 6.2579 - val_accuracy: 0.0987\n",
            "Epoch 87/100\n",
            "375/375 [==============================] - 5s 12ms/step - loss: 0.6390 - accuracy: 0.7925 - val_loss: 6.3072 - val_accuracy: 0.0959\n",
            "Epoch 88/100\n",
            "375/375 [==============================] - 5s 13ms/step - loss: 0.6288 - accuracy: 0.7954 - val_loss: 6.4051 - val_accuracy: 0.0987\n",
            "Epoch 89/100\n",
            "375/375 [==============================] - 5s 12ms/step - loss: 0.6219 - accuracy: 0.7970 - val_loss: 6.4400 - val_accuracy: 0.0970\n",
            "Epoch 90/100\n",
            "375/375 [==============================] - 5s 13ms/step - loss: 0.6131 - accuracy: 0.8008 - val_loss: 6.5292 - val_accuracy: 0.0950\n",
            "Epoch 91/100\n",
            "375/375 [==============================] - 5s 13ms/step - loss: 0.6046 - accuracy: 0.8041 - val_loss: 6.5949 - val_accuracy: 0.0967\n",
            "Epoch 92/100\n",
            "375/375 [==============================] - 4s 11ms/step - loss: 0.5953 - accuracy: 0.8075 - val_loss: 6.6574 - val_accuracy: 0.0997\n",
            "Epoch 93/100\n",
            "375/375 [==============================] - 5s 13ms/step - loss: 0.5858 - accuracy: 0.8108 - val_loss: 6.7204 - val_accuracy: 0.0972\n",
            "Epoch 94/100\n",
            "375/375 [==============================] - 5s 13ms/step - loss: 0.5806 - accuracy: 0.8110 - val_loss: 6.8231 - val_accuracy: 0.0968\n",
            "Epoch 95/100\n",
            "375/375 [==============================] - 5s 13ms/step - loss: 0.5718 - accuracy: 0.8161 - val_loss: 6.8827 - val_accuracy: 0.0983\n",
            "Epoch 96/100\n",
            "375/375 [==============================] - 4s 12ms/step - loss: 0.5663 - accuracy: 0.8167 - val_loss: 6.8886 - val_accuracy: 0.0997\n",
            "Epoch 97/100\n",
            "375/375 [==============================] - 5s 12ms/step - loss: 0.5542 - accuracy: 0.8208 - val_loss: 6.9560 - val_accuracy: 0.0963\n",
            "Epoch 98/100\n",
            "375/375 [==============================] - 6s 15ms/step - loss: 0.5476 - accuracy: 0.8243 - val_loss: 7.0465 - val_accuracy: 0.0964\n",
            "Epoch 99/100\n",
            "375/375 [==============================] - 5s 12ms/step - loss: 0.5411 - accuracy: 0.8269 - val_loss: 7.0935 - val_accuracy: 0.1012\n",
            "Epoch 100/100\n",
            "375/375 [==============================] - 5s 13ms/step - loss: 0.5342 - accuracy: 0.8295 - val_loss: 7.1612 - val_accuracy: 0.0990\n"
          ]
        },
        {
          "output_type": "execute_result",
          "data": {
            "text/plain": [
              "<keras.callbacks.History at 0x7fa5bcc29610>"
            ]
          },
          "metadata": {},
          "execution_count": 4
        }
      ],
      "source": [
        "(train_images, train_labels), _ = mnist.load_data()\n",
        "train_images = train_images.reshape((60000, 28 * 28))\n",
        "train_images = train_images.astype(\"float32\") / 255\n",
        "\n",
        "random_train_labels = train_labels[:]\n",
        "np.random.shuffle(random_train_labels)\n",
        "\n",
        "model = keras.Sequential([\n",
        "    layers.Dense(512, activation=\"relu\"),\n",
        "    layers.Dense(10, activation=\"softmax\")\n",
        "])\n",
        "model.compile(optimizer=\"rmsprop\",\n",
        "              loss=\"sparse_categorical_crossentropy\",\n",
        "              metrics=[\"accuracy\"])\n",
        "model.fit(train_images, random_train_labels,\n",
        "          epochs=100,\n",
        "          batch_size=128,\n",
        "          validation_split=0.2)"
      ]
    },
    {
      "cell_type": "markdown",
      "metadata": {
        "id": "xKORDi3P2Zzh"
      },
      "source": [
        "#### The manifold hypothesis"
      ]
    },
    {
      "cell_type": "markdown",
      "metadata": {
        "id": "x-YjhkyM2Zzh"
      },
      "source": [
        "#### Interpolation as a source of generalization"
      ]
    },
    {
      "cell_type": "markdown",
      "metadata": {
        "id": "WwOUHx612Zzh"
      },
      "source": [
        "#### Why deep learning works"
      ]
    },
    {
      "cell_type": "markdown",
      "metadata": {
        "id": "N-1W1gba2Zzh"
      },
      "source": [
        "#### Training data is paramount"
      ]
    },
    {
      "cell_type": "markdown",
      "metadata": {
        "id": "zpSsHEEm2Zzh"
      },
      "source": [
        "## Evaluating machine-learning models"
      ]
    },
    {
      "cell_type": "markdown",
      "metadata": {
        "id": "QXLKCSnZ2Zzh"
      },
      "source": [
        "### Training, validation, and test sets"
      ]
    },
    {
      "cell_type": "markdown",
      "metadata": {
        "id": "ftOjnfoo2Zzi"
      },
      "source": [
        "#### Simple hold-out validation"
      ]
    },
    {
      "cell_type": "markdown",
      "metadata": {
        "id": "W9geL6dT2Zzi"
      },
      "source": [
        "#### K-fold validation"
      ]
    },
    {
      "cell_type": "markdown",
      "metadata": {
        "id": "eNyjMvJk2Zzi"
      },
      "source": [
        "#### Iterated K-fold validation with shuffling"
      ]
    },
    {
      "cell_type": "markdown",
      "metadata": {
        "id": "pxjI6wci2Zzi"
      },
      "source": [
        "### Beating a common-sense baseline"
      ]
    },
    {
      "cell_type": "markdown",
      "metadata": {
        "id": "s3suJ08a2Zzi"
      },
      "source": [
        "### Things to keep in mind about model evaluation"
      ]
    },
    {
      "cell_type": "markdown",
      "metadata": {
        "id": "fNny3_t-2Zzi"
      },
      "source": [
        "## Improving model fit"
      ]
    },
    {
      "cell_type": "markdown",
      "metadata": {
        "id": "ME5Yj_WR2Zzi"
      },
      "source": [
        "### Tuning key gradient descent parameters"
      ]
    },
    {
      "cell_type": "markdown",
      "metadata": {
        "id": "reRbnLYF2Zzi"
      },
      "source": [
        "**Training a MNIST model with an incorrectly high learning rate**"
      ]
    },
    {
      "cell_type": "code",
      "execution_count": 5,
      "metadata": {
        "colab": {
          "base_uri": "https://localhost:8080/"
        },
        "id": "HcOqeuTq2Zzj",
        "outputId": "25565ab6-63ae-4f27-8837-5acc0717e8c9"
      },
      "outputs": [
        {
          "output_type": "stream",
          "name": "stdout",
          "text": [
            "Epoch 1/10\n",
            "375/375 [==============================] - 5s 13ms/step - loss: 869.8725 - accuracy: 0.4352 - val_loss: 2.7190 - val_accuracy: 0.3159\n",
            "Epoch 2/10\n",
            "375/375 [==============================] - 5s 12ms/step - loss: 4.7686 - accuracy: 0.2831 - val_loss: 2.6717 - val_accuracy: 0.2388\n",
            "Epoch 3/10\n",
            "375/375 [==============================] - 4s 11ms/step - loss: 2.9334 - accuracy: 0.2694 - val_loss: 2.4316 - val_accuracy: 0.2968\n",
            "Epoch 4/10\n",
            "375/375 [==============================] - 5s 12ms/step - loss: 2.9198 - accuracy: 0.2713 - val_loss: 2.0274 - val_accuracy: 0.3257\n",
            "Epoch 5/10\n",
            "375/375 [==============================] - 5s 12ms/step - loss: 2.6765 - accuracy: 0.2612 - val_loss: 2.2227 - val_accuracy: 0.3104\n",
            "Epoch 6/10\n",
            "375/375 [==============================] - 5s 12ms/step - loss: 2.6782 - accuracy: 0.2864 - val_loss: 2.1730 - val_accuracy: 0.2689\n",
            "Epoch 7/10\n",
            "375/375 [==============================] - 5s 12ms/step - loss: 2.7214 - accuracy: 0.2906 - val_loss: 2.6242 - val_accuracy: 0.2383\n",
            "Epoch 8/10\n",
            "375/375 [==============================] - 4s 12ms/step - loss: 2.9829 - accuracy: 0.2948 - val_loss: 2.0809 - val_accuracy: 0.3002\n",
            "Epoch 9/10\n",
            "375/375 [==============================] - 5s 13ms/step - loss: 2.5683 - accuracy: 0.2903 - val_loss: 2.6967 - val_accuracy: 0.3185\n",
            "Epoch 10/10\n",
            "375/375 [==============================] - 4s 12ms/step - loss: 2.5802 - accuracy: 0.3271 - val_loss: 1.9961 - val_accuracy: 0.3047\n"
          ]
        },
        {
          "output_type": "execute_result",
          "data": {
            "text/plain": [
              "<keras.callbacks.History at 0x7fa5b92dddd0>"
            ]
          },
          "metadata": {},
          "execution_count": 5
        }
      ],
      "source": [
        "(train_images, train_labels), _ = mnist.load_data()\n",
        "train_images = train_images.reshape((60000, 28 * 28))\n",
        "train_images = train_images.astype(\"float32\") / 255\n",
        "\n",
        "model = keras.Sequential([\n",
        "    layers.Dense(512, activation=\"relu\"),\n",
        "    layers.Dense(10, activation=\"softmax\")\n",
        "])\n",
        "model.compile(optimizer=keras.optimizers.RMSprop(1.),\n",
        "              loss=\"sparse_categorical_crossentropy\",\n",
        "              metrics=[\"accuracy\"])\n",
        "model.fit(train_images, train_labels,\n",
        "          epochs=10,\n",
        "          batch_size=128,\n",
        "          validation_split=0.2)"
      ]
    },
    {
      "cell_type": "markdown",
      "metadata": {
        "id": "NN6Y-CNn2Zzj"
      },
      "source": [
        "**The same model with a more appropriate learning rate**"
      ]
    },
    {
      "cell_type": "code",
      "execution_count": 6,
      "metadata": {
        "colab": {
          "base_uri": "https://localhost:8080/"
        },
        "id": "tFjARvyC2Zzj",
        "outputId": "ada90706-56d8-4708-c098-016f4db670fb"
      },
      "outputs": [
        {
          "output_type": "stream",
          "name": "stdout",
          "text": [
            "Epoch 1/10\n",
            "375/375 [==============================] - 5s 13ms/step - loss: 0.3378 - accuracy: 0.9142 - val_loss: 0.1546 - val_accuracy: 0.9608\n",
            "Epoch 2/10\n",
            "375/375 [==============================] - 5s 12ms/step - loss: 0.1441 - accuracy: 0.9631 - val_loss: 0.2173 - val_accuracy: 0.9521\n",
            "Epoch 3/10\n",
            "375/375 [==============================] - 5s 12ms/step - loss: 0.1202 - accuracy: 0.9726 - val_loss: 0.1784 - val_accuracy: 0.9688\n",
            "Epoch 4/10\n",
            "375/375 [==============================] - 4s 11ms/step - loss: 0.0980 - accuracy: 0.9780 - val_loss: 0.1730 - val_accuracy: 0.9724\n",
            "Epoch 5/10\n",
            "375/375 [==============================] - 4s 12ms/step - loss: 0.0884 - accuracy: 0.9815 - val_loss: 0.1998 - val_accuracy: 0.9728\n",
            "Epoch 6/10\n",
            "375/375 [==============================] - 5s 13ms/step - loss: 0.0796 - accuracy: 0.9837 - val_loss: 0.2193 - val_accuracy: 0.9711\n",
            "Epoch 7/10\n",
            "375/375 [==============================] - 6s 16ms/step - loss: 0.0805 - accuracy: 0.9860 - val_loss: 0.2480 - val_accuracy: 0.9723\n",
            "Epoch 8/10\n",
            "375/375 [==============================] - 5s 13ms/step - loss: 0.0616 - accuracy: 0.9882 - val_loss: 0.2446 - val_accuracy: 0.9766\n",
            "Epoch 9/10\n",
            "375/375 [==============================] - 5s 12ms/step - loss: 0.0599 - accuracy: 0.9899 - val_loss: 0.3055 - val_accuracy: 0.9731\n",
            "Epoch 10/10\n",
            "375/375 [==============================] - 4s 12ms/step - loss: 0.0581 - accuracy: 0.9898 - val_loss: 0.3154 - val_accuracy: 0.9743\n"
          ]
        },
        {
          "output_type": "execute_result",
          "data": {
            "text/plain": [
              "<keras.callbacks.History at 0x7fa5b915ef90>"
            ]
          },
          "metadata": {},
          "execution_count": 6
        }
      ],
      "source": [
        "model = keras.Sequential([\n",
        "    layers.Dense(512, activation=\"relu\"),\n",
        "    layers.Dense(10, activation=\"softmax\")\n",
        "])\n",
        "model.compile(optimizer=keras.optimizers.RMSprop(1e-2),\n",
        "              loss=\"sparse_categorical_crossentropy\",\n",
        "              metrics=[\"accuracy\"])\n",
        "model.fit(train_images, train_labels,\n",
        "          epochs=10,\n",
        "          batch_size=128,\n",
        "          validation_split=0.2)"
      ]
    },
    {
      "cell_type": "markdown",
      "metadata": {
        "id": "2NEDfQWM2Zzj"
      },
      "source": [
        "### Leveraging better architecture priors"
      ]
    },
    {
      "cell_type": "markdown",
      "metadata": {
        "id": "GBv6dZ2W2Zzj"
      },
      "source": [
        "### Increasing model capacity"
      ]
    },
    {
      "cell_type": "markdown",
      "metadata": {
        "id": "RGlbG6_z2Zzj"
      },
      "source": [
        "**A simple logistic regression on MNIST**"
      ]
    },
    {
      "cell_type": "code",
      "execution_count": 7,
      "metadata": {
        "colab": {
          "base_uri": "https://localhost:8080/"
        },
        "id": "iXCbKkUF2Zzj",
        "outputId": "81a51e17-e4c5-4f9f-e69b-db0530825524"
      },
      "outputs": [
        {
          "output_type": "stream",
          "name": "stdout",
          "text": [
            "Epoch 1/20\n",
            "375/375 [==============================] - 1s 3ms/step - loss: 0.6615 - accuracy: 0.8392 - val_loss: 0.3583 - val_accuracy: 0.9038\n",
            "Epoch 2/20\n",
            "375/375 [==============================] - 1s 4ms/step - loss: 0.3501 - accuracy: 0.9036 - val_loss: 0.3076 - val_accuracy: 0.9132\n",
            "Epoch 3/20\n",
            "375/375 [==============================] - 1s 3ms/step - loss: 0.3149 - accuracy: 0.9125 - val_loss: 0.2900 - val_accuracy: 0.9179\n",
            "Epoch 4/20\n",
            "375/375 [==============================] - 1s 3ms/step - loss: 0.2988 - accuracy: 0.9167 - val_loss: 0.2810 - val_accuracy: 0.9220\n",
            "Epoch 5/20\n",
            "375/375 [==============================] - 1s 3ms/step - loss: 0.2891 - accuracy: 0.9194 - val_loss: 0.2740 - val_accuracy: 0.9242\n",
            "Epoch 6/20\n",
            "375/375 [==============================] - 1s 3ms/step - loss: 0.2828 - accuracy: 0.9208 - val_loss: 0.2714 - val_accuracy: 0.9241\n",
            "Epoch 7/20\n",
            "375/375 [==============================] - 1s 3ms/step - loss: 0.2780 - accuracy: 0.9226 - val_loss: 0.2696 - val_accuracy: 0.9261\n",
            "Epoch 8/20\n",
            "375/375 [==============================] - 1s 3ms/step - loss: 0.2741 - accuracy: 0.9233 - val_loss: 0.2670 - val_accuracy: 0.9259\n",
            "Epoch 9/20\n",
            "375/375 [==============================] - 1s 3ms/step - loss: 0.2713 - accuracy: 0.9245 - val_loss: 0.2656 - val_accuracy: 0.9274\n",
            "Epoch 10/20\n",
            "375/375 [==============================] - 1s 3ms/step - loss: 0.2688 - accuracy: 0.9254 - val_loss: 0.2635 - val_accuracy: 0.9296\n",
            "Epoch 11/20\n",
            "375/375 [==============================] - 1s 3ms/step - loss: 0.2664 - accuracy: 0.9259 - val_loss: 0.2642 - val_accuracy: 0.9281\n",
            "Epoch 12/20\n",
            "375/375 [==============================] - 1s 3ms/step - loss: 0.2648 - accuracy: 0.9272 - val_loss: 0.2643 - val_accuracy: 0.9294\n",
            "Epoch 13/20\n",
            "375/375 [==============================] - 1s 3ms/step - loss: 0.2630 - accuracy: 0.9271 - val_loss: 0.2621 - val_accuracy: 0.9303\n",
            "Epoch 14/20\n",
            "375/375 [==============================] - 1s 3ms/step - loss: 0.2615 - accuracy: 0.9287 - val_loss: 0.2618 - val_accuracy: 0.9301\n",
            "Epoch 15/20\n",
            "375/375 [==============================] - 1s 3ms/step - loss: 0.2602 - accuracy: 0.9284 - val_loss: 0.2613 - val_accuracy: 0.9303\n",
            "Epoch 16/20\n",
            "375/375 [==============================] - 1s 3ms/step - loss: 0.2594 - accuracy: 0.9291 - val_loss: 0.2609 - val_accuracy: 0.9308\n",
            "Epoch 17/20\n",
            "375/375 [==============================] - 1s 3ms/step - loss: 0.2581 - accuracy: 0.9296 - val_loss: 0.2605 - val_accuracy: 0.9308\n",
            "Epoch 18/20\n",
            "375/375 [==============================] - 1s 2ms/step - loss: 0.2572 - accuracy: 0.9295 - val_loss: 0.2601 - val_accuracy: 0.9313\n",
            "Epoch 19/20\n",
            "375/375 [==============================] - 1s 3ms/step - loss: 0.2565 - accuracy: 0.9296 - val_loss: 0.2594 - val_accuracy: 0.9314\n",
            "Epoch 20/20\n",
            "375/375 [==============================] - 1s 3ms/step - loss: 0.2557 - accuracy: 0.9306 - val_loss: 0.2608 - val_accuracy: 0.9308\n"
          ]
        }
      ],
      "source": [
        "model = keras.Sequential([layers.Dense(10, activation=\"softmax\")])\n",
        "model.compile(optimizer=\"rmsprop\",\n",
        "              loss=\"sparse_categorical_crossentropy\",\n",
        "              metrics=[\"accuracy\"])\n",
        "history_small_model = model.fit(\n",
        "    train_images, train_labels,\n",
        "    epochs=20,\n",
        "    batch_size=128,\n",
        "    validation_split=0.2)"
      ]
    },
    {
      "cell_type": "code",
      "execution_count": 8,
      "metadata": {
        "colab": {
          "base_uri": "https://localhost:8080/",
          "height": 312
        },
        "id": "keedxChm2Zzj",
        "outputId": "7ae5d2b9-7d75-461e-c52d-0a18f5fa2032"
      },
      "outputs": [
        {
          "output_type": "execute_result",
          "data": {
            "text/plain": [
              "<matplotlib.legend.Legend at 0x7fa5b9000550>"
            ]
          },
          "metadata": {},
          "execution_count": 8
        },
        {
          "output_type": "display_data",
          "data": {
            "text/plain": [
              "<Figure size 432x288 with 1 Axes>"
            ],
            "image/png": "[encoded data removed]"
          },
          "metadata": {
            "needs_background": "light"
          }
        }
      ],
      "source": [
        "import matplotlib.pyplot as plt\n",
        "val_loss = history_small_model.history[\"val_loss\"]\n",
        "epochs = range(1, 21)\n",
        "plt.plot(epochs, val_loss, \"b--\",\n",
        "         label=\"Validation loss\")\n",
        "plt.title(\"Effect of insufficient model capacity on validation loss\")\n",
        "plt.xlabel(\"Epochs\")\n",
        "plt.ylabel(\"Loss\")\n",
        "plt.legend()"
      ]
    },
    {
      "cell_type": "code",
      "execution_count": 9,
      "metadata": {
        "colab": {
          "base_uri": "https://localhost:8080/"
        },
        "id": "jAf66s7X2Zzk",
        "outputId": "21313032-17f8-4cfc-8bfa-066633ccb6bb"
      },
      "outputs": [
        {
          "output_type": "stream",
          "name": "stdout",
          "text": [
            "Epoch 1/20\n",
            "375/375 [==============================] - 5s 11ms/step - loss: 0.3628 - accuracy: 0.8974 - val_loss: 0.1972 - val_accuracy: 0.9412\n",
            "Epoch 2/20\n",
            "375/375 [==============================] - 4s 11ms/step - loss: 0.1678 - accuracy: 0.9507 - val_loss: 0.1439 - val_accuracy: 0.9591\n",
            "Epoch 3/20\n",
            "375/375 [==============================] - 3s 7ms/step - loss: 0.1178 - accuracy: 0.9651 - val_loss: 0.1205 - val_accuracy: 0.9632\n",
            "Epoch 4/20\n",
            "375/375 [==============================] - 2s 6ms/step - loss: 0.0907 - accuracy: 0.9724 - val_loss: 0.1067 - val_accuracy: 0.9677\n",
            "Epoch 5/20\n",
            "375/375 [==============================] - 3s 8ms/step - loss: 0.0728 - accuracy: 0.9779 - val_loss: 0.1149 - val_accuracy: 0.9658\n",
            "Epoch 6/20\n",
            "375/375 [==============================] - 3s 8ms/step - loss: 0.0597 - accuracy: 0.9818 - val_loss: 0.0895 - val_accuracy: 0.9740\n",
            "Epoch 7/20\n",
            "375/375 [==============================] - 3s 9ms/step - loss: 0.0500 - accuracy: 0.9849 - val_loss: 0.0924 - val_accuracy: 0.9743\n",
            "Epoch 8/20\n",
            "375/375 [==============================] - 2s 6ms/step - loss: 0.0427 - accuracy: 0.9871 - val_loss: 0.0941 - val_accuracy: 0.9752\n",
            "Epoch 9/20\n",
            "375/375 [==============================] - 2s 6ms/step - loss: 0.0349 - accuracy: 0.9899 - val_loss: 0.0971 - val_accuracy: 0.9733\n",
            "Epoch 10/20\n",
            "375/375 [==============================] - 2s 5ms/step - loss: 0.0295 - accuracy: 0.9910 - val_loss: 0.1093 - val_accuracy: 0.9722\n",
            "Epoch 11/20\n",
            "375/375 [==============================] - 2s 6ms/step - loss: 0.0258 - accuracy: 0.9924 - val_loss: 0.0931 - val_accuracy: 0.9771\n",
            "Epoch 12/20\n",
            "375/375 [==============================] - 2s 6ms/step - loss: 0.0211 - accuracy: 0.9936 - val_loss: 0.1064 - val_accuracy: 0.9748\n",
            "Epoch 13/20\n",
            "375/375 [==============================] - 2s 6ms/step - loss: 0.0184 - accuracy: 0.9943 - val_loss: 0.1039 - val_accuracy: 0.9768\n",
            "Epoch 14/20\n",
            "375/375 [==============================] - 2s 6ms/step - loss: 0.0153 - accuracy: 0.9951 - val_loss: 0.1149 - val_accuracy: 0.9755\n",
            "Epoch 15/20\n",
            "375/375 [==============================] - 2s 6ms/step - loss: 0.0132 - accuracy: 0.9957 - val_loss: 0.1097 - val_accuracy: 0.9752\n",
            "Epoch 16/20\n",
            "375/375 [==============================] - 2s 5ms/step - loss: 0.0114 - accuracy: 0.9964 - val_loss: 0.1300 - val_accuracy: 0.9747\n",
            "Epoch 17/20\n",
            "375/375 [==============================] - 2s 6ms/step - loss: 0.0099 - accuracy: 0.9970 - val_loss: 0.1190 - val_accuracy: 0.9759\n",
            "Epoch 18/20\n",
            "375/375 [==============================] - 2s 6ms/step - loss: 0.0082 - accuracy: 0.9973 - val_loss: 0.1259 - val_accuracy: 0.9757\n",
            "Epoch 19/20\n",
            "375/375 [==============================] - 2s 6ms/step - loss: 0.0082 - accuracy: 0.9975 - val_loss: 0.1386 - val_accuracy: 0.9738\n",
            "Epoch 20/20\n",
            "375/375 [==============================] - 2s 6ms/step - loss: 0.0059 - accuracy: 0.9981 - val_loss: 0.1383 - val_accuracy: 0.9756\n"
          ]
        }
      ],
      "source": [
        "model = keras.Sequential([\n",
        "    layers.Dense(96, activation=\"relu\"),\n",
        "    layers.Dense(96, activation=\"relu\"),\n",
        "    layers.Dense(10, activation=\"softmax\"),\n",
        "])\n",
        "model.compile(optimizer=\"rmsprop\",\n",
        "              loss=\"sparse_categorical_crossentropy\",\n",
        "              metrics=[\"accuracy\"])\n",
        "history_large_model = model.fit(\n",
        "    train_images, train_labels,\n",
        "    epochs=20,\n",
        "    batch_size=128,\n",
        "    validation_split=0.2)"
      ]
    },
    {
      "cell_type": "markdown",
      "metadata": {
        "id": "4ak0lyjF2Zzk"
      },
      "source": [
        "## Improving generalization"
      ]
    },
    {
      "cell_type": "markdown",
      "metadata": {
        "id": "nqtdjAmZ2Zzk"
      },
      "source": [
        "### Dataset curation"
      ]
    },
    {
      "cell_type": "markdown",
      "metadata": {
        "id": "7MCHKazZ2Zzk"
      },
      "source": [
        "### Feature engineering"
      ]
    },
    {
      "cell_type": "markdown",
      "metadata": {
        "id": "d468DgkX2Zzk"
      },
      "source": [
        "### Using early stopping"
      ]
    },
    {
      "cell_type": "markdown",
      "metadata": {
        "id": "Jo4xCe4G2Zzk"
      },
      "source": [
        "### Regularizing your model"
      ]
    },
    {
      "cell_type": "markdown",
      "metadata": {
        "id": "y-32Sopt2Zzk"
      },
      "source": [
        "#### Reducing the network's size"
      ]
    },
    {
      "cell_type": "markdown",
      "metadata": {
        "id": "Wp7RMo2A2Zzk"
      },
      "source": [
        "**Original model**"
      ]
    },
    {
      "cell_type": "code",
      "execution_count": 10,
      "metadata": {
        "colab": {
          "base_uri": "https://localhost:8080/"
        },
        "id": "D70wvkcN2Zzk",
        "outputId": "6e10f141-bff4-4f47-bb57-2aba99075280"
      },
      "outputs": [
        {
          "output_type": "stream",
          "name": "stdout",
          "text": [
            "Downloading data from https://storage.googleapis.com/tensorflow/tf-keras-datasets/imdb.npz\n",
            "17465344/17464789 [==============================] - 0s 0us/step\n",
            "17473536/17464789 [==============================] - 0s 0us/step\n",
            "Epoch 1/20\n",
            "30/30 [==============================] - 2s 54ms/step - loss: 0.5190 - accuracy: 0.7805 - val_loss: 0.3950 - val_accuracy: 0.8525\n",
            "Epoch 2/20\n",
            "30/30 [==============================] - 1s 38ms/step - loss: 0.3041 - accuracy: 0.9003 - val_loss: 0.2998 - val_accuracy: 0.8901\n",
            "Epoch 3/20\n",
            "30/30 [==============================] - 1s 35ms/step - loss: 0.2184 - accuracy: 0.9303 - val_loss: 0.3005 - val_accuracy: 0.8786\n",
            "Epoch 4/20\n",
            "30/30 [==============================] - 1s 37ms/step - loss: 0.1741 - accuracy: 0.9442 - val_loss: 0.2787 - val_accuracy: 0.8922\n",
            "Epoch 5/20\n",
            "30/30 [==============================] - 1s 42ms/step - loss: 0.1428 - accuracy: 0.9541 - val_loss: 0.2915 - val_accuracy: 0.8857\n",
            "Epoch 6/20\n",
            "30/30 [==============================] - 1s 42ms/step - loss: 0.1180 - accuracy: 0.9634 - val_loss: 0.3000 - val_accuracy: 0.8834\n",
            "Epoch 7/20\n",
            "30/30 [==============================] - 1s 42ms/step - loss: 0.0966 - accuracy: 0.9705 - val_loss: 0.3179 - val_accuracy: 0.8844\n",
            "Epoch 8/20\n",
            "30/30 [==============================] - 1s 42ms/step - loss: 0.0840 - accuracy: 0.9745 - val_loss: 0.3457 - val_accuracy: 0.8774\n",
            "Epoch 9/20\n",
            "30/30 [==============================] - 1s 43ms/step - loss: 0.0683 - accuracy: 0.9815 - val_loss: 0.3621 - val_accuracy: 0.8790\n",
            "Epoch 10/20\n",
            "30/30 [==============================] - 1s 42ms/step - loss: 0.0558 - accuracy: 0.9849 - val_loss: 0.4000 - val_accuracy: 0.8729\n",
            "Epoch 11/20\n",
            "30/30 [==============================] - 1s 42ms/step - loss: 0.0452 - accuracy: 0.9889 - val_loss: 0.4220 - val_accuracy: 0.8739\n",
            "Epoch 12/20\n",
            "30/30 [==============================] - 1s 43ms/step - loss: 0.0392 - accuracy: 0.9907 - val_loss: 0.4522 - val_accuracy: 0.8727\n",
            "Epoch 13/20\n",
            "30/30 [==============================] - 1s 39ms/step - loss: 0.0314 - accuracy: 0.9934 - val_loss: 0.4929 - val_accuracy: 0.8682\n",
            "Epoch 14/20\n",
            "30/30 [==============================] - 1s 40ms/step - loss: 0.0249 - accuracy: 0.9952 - val_loss: 0.5248 - val_accuracy: 0.8662\n",
            "Epoch 15/20\n",
            "30/30 [==============================] - 1s 42ms/step - loss: 0.0212 - accuracy: 0.9966 - val_loss: 0.5907 - val_accuracy: 0.8594\n",
            "Epoch 16/20\n",
            "30/30 [==============================] - 1s 42ms/step - loss: 0.0200 - accuracy: 0.9961 - val_loss: 0.5755 - val_accuracy: 0.8664\n",
            "Epoch 17/20\n",
            "30/30 [==============================] - 1s 42ms/step - loss: 0.0128 - accuracy: 0.9985 - val_loss: 0.6129 - val_accuracy: 0.8653\n",
            "Epoch 18/20\n",
            "30/30 [==============================] - 1s 42ms/step - loss: 0.0140 - accuracy: 0.9971 - val_loss: 0.6432 - val_accuracy: 0.8640\n",
            "Epoch 19/20\n",
            "30/30 [==============================] - 1s 41ms/step - loss: 0.0068 - accuracy: 0.9996 - val_loss: 0.6898 - val_accuracy: 0.8647\n",
            "Epoch 20/20\n",
            "30/30 [==============================] - 1s 33ms/step - loss: 0.0073 - accuracy: 0.9993 - val_loss: 0.7224 - val_accuracy: 0.8637\n"
          ]
        }
      ],
      "source": [
        "from tensorflow.keras.datasets import imdb\n",
        "(train_data, train_labels), _ = imdb.load_data(num_words=10000)\n",
        "\n",
        "def vectorize_sequences(sequences, dimension=10000):\n",
        "    results = np.zeros((len(sequences), dimension))\n",
        "    for i, sequence in enumerate(sequences):\n",
        "        results[i, sequence] = 1.\n",
        "    return results\n",
        "train_data = vectorize_sequences(train_data)\n",
        "\n",
        "model = keras.Sequential([\n",
        "    layers.Dense(16, activation=\"relu\"),\n",
        "    layers.Dense(16, activation=\"relu\"),\n",
        "    layers.Dense(1, activation=\"sigmoid\")\n",
        "])\n",
        "model.compile(optimizer=\"rmsprop\",\n",
        "              loss=\"binary_crossentropy\",\n",
        "              metrics=[\"accuracy\"])\n",
        "history_original = model.fit(train_data, train_labels,\n",
        "                             epochs=20, batch_size=512, validation_split=0.4)"
      ]
    },
    {
      "cell_type": "markdown",
      "metadata": {
        "id": "eIc_Cxng2Zzl"
      },
      "source": [
        "**Version of the model with lower capacity**"
      ]
    },
    {
      "cell_type": "code",
      "execution_count": 11,
      "metadata": {
        "colab": {
          "base_uri": "https://localhost:8080/"
        },
        "id": "Im4Gbkdx2Zzl",
        "outputId": "6ddc4cce-1ae9-488e-a2cd-8093a50c7b8f"
      },
      "outputs": [
        {
          "output_type": "stream",
          "name": "stdout",
          "text": [
            "Epoch 1/20\n",
            "30/30 [==============================] - 2s 42ms/step - loss: 0.6317 - accuracy: 0.7651 - val_loss: 0.5719 - val_accuracy: 0.8467\n",
            "Epoch 2/20\n",
            "30/30 [==============================] - 1s 39ms/step - loss: 0.5201 - accuracy: 0.8729 - val_loss: 0.4866 - val_accuracy: 0.8663\n",
            "Epoch 3/20\n",
            "30/30 [==============================] - 1s 40ms/step - loss: 0.4319 - accuracy: 0.8923 - val_loss: 0.4160 - val_accuracy: 0.8746\n",
            "Epoch 4/20\n",
            "30/30 [==============================] - 1s 34ms/step - loss: 0.3599 - accuracy: 0.9037 - val_loss: 0.3645 - val_accuracy: 0.8832\n",
            "Epoch 5/20\n",
            "30/30 [==============================] - 1s 29ms/step - loss: 0.3031 - accuracy: 0.9154 - val_loss: 0.3271 - val_accuracy: 0.8864\n",
            "Epoch 6/20\n",
            "30/30 [==============================] - 1s 42ms/step - loss: 0.2594 - accuracy: 0.9263 - val_loss: 0.3025 - val_accuracy: 0.8913\n",
            "Epoch 7/20\n",
            "30/30 [==============================] - 1s 41ms/step - loss: 0.2254 - accuracy: 0.9333 - val_loss: 0.2896 - val_accuracy: 0.8899\n",
            "Epoch 8/20\n",
            "30/30 [==============================] - 1s 46ms/step - loss: 0.1982 - accuracy: 0.9407 - val_loss: 0.2767 - val_accuracy: 0.8937\n",
            "Epoch 9/20\n",
            "30/30 [==============================] - 1s 36ms/step - loss: 0.1756 - accuracy: 0.9468 - val_loss: 0.2763 - val_accuracy: 0.8909\n",
            "Epoch 10/20\n",
            "30/30 [==============================] - 1s 29ms/step - loss: 0.1565 - accuracy: 0.9525 - val_loss: 0.2729 - val_accuracy: 0.8929\n",
            "Epoch 11/20\n",
            "30/30 [==============================] - 1s 29ms/step - loss: 0.1402 - accuracy: 0.9588 - val_loss: 0.2725 - val_accuracy: 0.8923\n",
            "Epoch 12/20\n",
            "30/30 [==============================] - 1s 29ms/step - loss: 0.1262 - accuracy: 0.9639 - val_loss: 0.2791 - val_accuracy: 0.8893\n",
            "Epoch 13/20\n",
            "30/30 [==============================] - 1s 29ms/step - loss: 0.1140 - accuracy: 0.9684 - val_loss: 0.2883 - val_accuracy: 0.8882\n",
            "Epoch 14/20\n",
            "30/30 [==============================] - 1s 36ms/step - loss: 0.1029 - accuracy: 0.9715 - val_loss: 0.2996 - val_accuracy: 0.8862\n",
            "Epoch 15/20\n",
            "30/30 [==============================] - 1s 40ms/step - loss: 0.0936 - accuracy: 0.9745 - val_loss: 0.3018 - val_accuracy: 0.8861\n",
            "Epoch 16/20\n",
            "30/30 [==============================] - 1s 31ms/step - loss: 0.0848 - accuracy: 0.9779 - val_loss: 0.3129 - val_accuracy: 0.8852\n",
            "Epoch 17/20\n",
            "30/30 [==============================] - 1s 39ms/step - loss: 0.0772 - accuracy: 0.9800 - val_loss: 0.3209 - val_accuracy: 0.8847\n",
            "Epoch 18/20\n",
            "30/30 [==============================] - 1s 31ms/step - loss: 0.0695 - accuracy: 0.9831 - val_loss: 0.3379 - val_accuracy: 0.8825\n",
            "Epoch 19/20\n",
            "30/30 [==============================] - 1s 29ms/step - loss: 0.0630 - accuracy: 0.9851 - val_loss: 0.3597 - val_accuracy: 0.8786\n",
            "Epoch 20/20\n",
            "30/30 [==============================] - 1s 35ms/step - loss: 0.0571 - accuracy: 0.9868 - val_loss: 0.3611 - val_accuracy: 0.8818\n"
          ]
        }
      ],
      "source": [
        "model = keras.Sequential([\n",
        "    layers.Dense(4, activation=\"relu\"),\n",
        "    layers.Dense(4, activation=\"relu\"),\n",
        "    layers.Dense(1, activation=\"sigmoid\")\n",
        "])\n",
        "model.compile(optimizer=\"rmsprop\",\n",
        "              loss=\"binary_crossentropy\",\n",
        "              metrics=[\"accuracy\"])\n",
        "history_smaller_model = model.fit(\n",
        "    train_data, train_labels,\n",
        "    epochs=20, batch_size=512, validation_split=0.4)"
      ]
    },
    {
      "cell_type": "markdown",
      "metadata": {
        "id": "B4zvceUz2Zzl"
      },
      "source": [
        "**Version of the model with higher capacity**"
      ]
    },
    {
      "cell_type": "code",
      "execution_count": 12,
      "metadata": {
        "colab": {
          "base_uri": "https://localhost:8080/"
        },
        "id": "XTAKuec42Zzl",
        "outputId": "0a9a265a-e96c-4b06-9b92-1f003736d221"
      },
      "outputs": [
        {
          "output_type": "stream",
          "name": "stdout",
          "text": [
            "Epoch 1/20\n",
            "30/30 [==============================] - 9s 280ms/step - loss: 0.5277 - accuracy: 0.7413 - val_loss: 0.3165 - val_accuracy: 0.8788\n",
            "Epoch 2/20\n",
            "30/30 [==============================] - 8s 265ms/step - loss: 0.2443 - accuracy: 0.9059 - val_loss: 0.2694 - val_accuracy: 0.8906\n",
            "Epoch 3/20\n",
            "30/30 [==============================] - 9s 287ms/step - loss: 0.1337 - accuracy: 0.9490 - val_loss: 0.4503 - val_accuracy: 0.8542\n",
            "Epoch 4/20\n",
            "30/30 [==============================] - 8s 283ms/step - loss: 0.1076 - accuracy: 0.9657 - val_loss: 0.3223 - val_accuracy: 0.8910\n",
            "Epoch 5/20\n",
            "30/30 [==============================] - 8s 275ms/step - loss: 0.0115 - accuracy: 0.9975 - val_loss: 0.4645 - val_accuracy: 0.8894\n",
            "Epoch 6/20\n",
            "30/30 [==============================] - 8s 278ms/step - loss: 0.0015 - accuracy: 0.9998 - val_loss: 0.5967 - val_accuracy: 0.8870\n",
            "Epoch 7/20\n",
            "30/30 [==============================] - 8s 265ms/step - loss: 0.2333 - accuracy: 0.9801 - val_loss: 0.5148 - val_accuracy: 0.8847\n",
            "Epoch 8/20\n",
            "30/30 [==============================] - 8s 262ms/step - loss: 4.4343e-04 - accuracy: 1.0000 - val_loss: 0.5952 - val_accuracy: 0.8858\n",
            "Epoch 9/20\n",
            "30/30 [==============================] - 8s 273ms/step - loss: 1.2156e-04 - accuracy: 1.0000 - val_loss: 0.6800 - val_accuracy: 0.8852\n",
            "Epoch 10/20\n",
            "30/30 [==============================] - 8s 273ms/step - loss: 3.5681e-05 - accuracy: 1.0000 - val_loss: 0.7556 - val_accuracy: 0.8846\n",
            "Epoch 11/20\n",
            "30/30 [==============================] - 8s 262ms/step - loss: 9.5778e-06 - accuracy: 1.0000 - val_loss: 0.8448 - val_accuracy: 0.8839\n",
            "Epoch 12/20\n",
            "30/30 [==============================] - 8s 271ms/step - loss: 2.8276e-06 - accuracy: 1.0000 - val_loss: 0.9304 - val_accuracy: 0.8839\n",
            "Epoch 13/20\n",
            "30/30 [==============================] - 8s 275ms/step - loss: 8.7304e-07 - accuracy: 1.0000 - val_loss: 1.0147 - val_accuracy: 0.8835\n",
            "Epoch 14/20\n",
            "30/30 [==============================] - 8s 270ms/step - loss: 3.0442e-07 - accuracy: 1.0000 - val_loss: 1.0461 - val_accuracy: 0.8831\n",
            "Epoch 15/20\n",
            "30/30 [==============================] - 8s 279ms/step - loss: 1.2163e-07 - accuracy: 1.0000 - val_loss: 1.1334 - val_accuracy: 0.8827\n",
            "Epoch 16/20\n",
            "30/30 [==============================] - 8s 278ms/step - loss: 5.2243e-08 - accuracy: 1.0000 - val_loss: 1.1788 - val_accuracy: 0.8829\n",
            "Epoch 17/20\n",
            "30/30 [==============================] - 8s 281ms/step - loss: 2.9636e-08 - accuracy: 1.0000 - val_loss: 1.2051 - val_accuracy: 0.8828\n",
            "Epoch 18/20\n",
            "30/30 [==============================] - 8s 282ms/step - loss: 1.9919e-08 - accuracy: 1.0000 - val_loss: 1.2310 - val_accuracy: 0.8825\n",
            "Epoch 19/20\n",
            "30/30 [==============================] - 8s 274ms/step - loss: 1.4889e-08 - accuracy: 1.0000 - val_loss: 1.2476 - val_accuracy: 0.8822\n",
            "Epoch 20/20\n",
            "30/30 [==============================] - 8s 279ms/step - loss: 1.1879e-08 - accuracy: 1.0000 - val_loss: 1.2623 - val_accuracy: 0.8826\n"
          ]
        }
      ],
      "source": [
        "model = keras.Sequential([\n",
        "    layers.Dense(512, activation=\"relu\"),\n",
        "    layers.Dense(512, activation=\"relu\"),\n",
        "    layers.Dense(1, activation=\"sigmoid\")\n",
        "])\n",
        "model.compile(optimizer=\"rmsprop\",\n",
        "              loss=\"binary_crossentropy\",\n",
        "              metrics=[\"accuracy\"])\n",
        "history_larger_model = model.fit(\n",
        "    train_data, train_labels,\n",
        "    epochs=20, batch_size=512, validation_split=0.4)"
      ]
    },
    {
      "cell_type": "markdown",
      "metadata": {
        "id": "DEg3MRuy2Zzl"
      },
      "source": [
        "#### Adding weight regularization"
      ]
    },
    {
      "cell_type": "markdown",
      "metadata": {
        "id": "zrz4vx0e2Zzl"
      },
      "source": [
        "**Adding L2 weight regularization to the model**"
      ]
    },
    {
      "cell_type": "code",
      "execution_count": 13,
      "metadata": {
        "colab": {
          "base_uri": "https://localhost:8080/"
        },
        "id": "XmHTvj712Zzl",
        "outputId": "24c6d949-8bba-402c-edb9-81aa3b4af507"
      },
      "outputs": [
        {
          "output_type": "stream",
          "name": "stdout",
          "text": [
            "Epoch 1/20\n",
            "30/30 [==============================] - 2s 57ms/step - loss: 0.6002 - accuracy: 0.7821 - val_loss: 0.4768 - val_accuracy: 0.8596\n",
            "Epoch 2/20\n",
            "30/30 [==============================] - 1s 34ms/step - loss: 0.4062 - accuracy: 0.8955 - val_loss: 0.4093 - val_accuracy: 0.8746\n",
            "Epoch 3/20\n",
            "30/30 [==============================] - 1s 32ms/step - loss: 0.3396 - accuracy: 0.9143 - val_loss: 0.3707 - val_accuracy: 0.8881\n",
            "Epoch 4/20\n",
            "30/30 [==============================] - 1s 32ms/step - loss: 0.3049 - accuracy: 0.9254 - val_loss: 0.3771 - val_accuracy: 0.8786\n",
            "Epoch 5/20\n",
            "30/30 [==============================] - 1s 32ms/step - loss: 0.2837 - accuracy: 0.9305 - val_loss: 0.3612 - val_accuracy: 0.8874\n",
            "Epoch 6/20\n",
            "30/30 [==============================] - 1s 32ms/step - loss: 0.2682 - accuracy: 0.9356 - val_loss: 0.3665 - val_accuracy: 0.8840\n",
            "Epoch 7/20\n",
            "30/30 [==============================] - 1s 31ms/step - loss: 0.2576 - accuracy: 0.9399 - val_loss: 0.4307 - val_accuracy: 0.8568\n",
            "Epoch 8/20\n",
            "30/30 [==============================] - 1s 32ms/step - loss: 0.2498 - accuracy: 0.9423 - val_loss: 0.3656 - val_accuracy: 0.8838\n",
            "Epoch 9/20\n",
            "30/30 [==============================] - 1s 37ms/step - loss: 0.2433 - accuracy: 0.9452 - val_loss: 0.4139 - val_accuracy: 0.8650\n",
            "Epoch 10/20\n",
            "30/30 [==============================] - 1s 37ms/step - loss: 0.2365 - accuracy: 0.9478 - val_loss: 0.3739 - val_accuracy: 0.8809\n",
            "Epoch 11/20\n",
            "30/30 [==============================] - 1s 33ms/step - loss: 0.2324 - accuracy: 0.9489 - val_loss: 0.4059 - val_accuracy: 0.8722\n",
            "Epoch 12/20\n",
            "30/30 [==============================] - 1s 33ms/step - loss: 0.2273 - accuracy: 0.9501 - val_loss: 0.3865 - val_accuracy: 0.8791\n",
            "Epoch 13/20\n",
            "30/30 [==============================] - 1s 32ms/step - loss: 0.2208 - accuracy: 0.9539 - val_loss: 0.4404 - val_accuracy: 0.8594\n",
            "Epoch 14/20\n",
            "30/30 [==============================] - 1s 37ms/step - loss: 0.2228 - accuracy: 0.9527 - val_loss: 0.3923 - val_accuracy: 0.8779\n",
            "Epoch 15/20\n",
            "30/30 [==============================] - 1s 36ms/step - loss: 0.2151 - accuracy: 0.9571 - val_loss: 0.3917 - val_accuracy: 0.8776\n",
            "Epoch 16/20\n",
            "30/30 [==============================] - 1s 39ms/step - loss: 0.2165 - accuracy: 0.9530 - val_loss: 0.4178 - val_accuracy: 0.8702\n",
            "Epoch 17/20\n",
            "30/30 [==============================] - 1s 42ms/step - loss: 0.2084 - accuracy: 0.9589 - val_loss: 0.3994 - val_accuracy: 0.8775\n",
            "Epoch 18/20\n",
            "30/30 [==============================] - 1s 42ms/step - loss: 0.2130 - accuracy: 0.9554 - val_loss: 0.4609 - val_accuracy: 0.8590\n",
            "Epoch 19/20\n",
            "30/30 [==============================] - 1s 43ms/step - loss: 0.2031 - accuracy: 0.9599 - val_loss: 0.4163 - val_accuracy: 0.8715\n",
            "Epoch 20/20\n",
            "30/30 [==============================] - 1s 37ms/step - loss: 0.2091 - accuracy: 0.9561 - val_loss: 0.4072 - val_accuracy: 0.8769\n"
          ]
        }
      ],
      "source": [
        "from tensorflow.keras import regularizers\n",
        "model = keras.Sequential([\n",
        "    layers.Dense(16,\n",
        "                 kernel_regularizer=regularizers.l2(0.002),\n",
        "                 activation=\"relu\"),\n",
        "    layers.Dense(16,\n",
        "                 kernel_regularizer=regularizers.l2(0.002),\n",
        "                 activation=\"relu\"),\n",
        "    layers.Dense(1, activation=\"sigmoid\")\n",
        "])\n",
        "model.compile(optimizer=\"rmsprop\",\n",
        "              loss=\"binary_crossentropy\",\n",
        "              metrics=[\"accuracy\"])\n",
        "history_l2_reg = model.fit(\n",
        "    train_data, train_labels,\n",
        "    epochs=20, batch_size=512, validation_split=0.4)"
      ]
    },
    {
      "cell_type": "markdown",
      "metadata": {
        "id": "SzGLdj9x2Zzm"
      },
      "source": [
        "**Different weight regularizers available in Keras**"
      ]
    },
    {
      "cell_type": "code",
      "execution_count": 14,
      "metadata": {
        "colab": {
          "base_uri": "https://localhost:8080/"
        },
        "id": "zX3densM2Zzm",
        "outputId": "24e63d3a-1b6d-4fb9-8bd2-1923572f98c2"
      },
      "outputs": [
        {
          "output_type": "execute_result",
          "data": {
            "text/plain": [
              "<keras.regularizers.L1L2 at 0x7fa5ae4c0a90>"
            ]
          },
          "metadata": {},
          "execution_count": 14
        }
      ],
      "source": [
        "from tensorflow.keras import regularizers\n",
        "regularizers.l1(0.001)\n",
        "regularizers.l1_l2(l1=0.001, l2=0.001)"
      ]
    },
    {
      "cell_type": "markdown",
      "metadata": {
        "id": "YtSdyHA-2Zzm"
      },
      "source": [
        "#### Adding dropout"
      ]
    },
    {
      "cell_type": "markdown",
      "metadata": {
        "id": "epZiQtXJ2Zzm"
      },
      "source": [
        "**Adding dropout to the IMDB model**"
      ]
    },
    {
      "cell_type": "code",
      "execution_count": 15,
      "metadata": {
        "colab": {
          "base_uri": "https://localhost:8080/"
        },
        "id": "_RmIkLvB2Zzm",
        "outputId": "a3f5dce8-0fde-4f54-aa10-f68deb1e8c7c"
      },
      "outputs": [
        {
          "output_type": "stream",
          "name": "stdout",
          "text": [
            "Epoch 1/20\n",
            "30/30 [==============================] - 3s 46ms/step - loss: 0.6602 - accuracy: 0.5887 - val_loss: 0.5795 - val_accuracy: 0.7845\n",
            "Epoch 2/20\n",
            "30/30 [==============================] - 1s 32ms/step - loss: 0.5551 - accuracy: 0.7243 - val_loss: 0.4571 - val_accuracy: 0.8625\n",
            "Epoch 3/20\n",
            "30/30 [==============================] - 1s 30ms/step - loss: 0.4683 - accuracy: 0.7905 - val_loss: 0.3849 - val_accuracy: 0.8774\n",
            "Epoch 4/20\n",
            "30/30 [==============================] - 1s 35ms/step - loss: 0.4051 - accuracy: 0.8400 - val_loss: 0.3517 - val_accuracy: 0.8764\n",
            "Epoch 5/20\n",
            "30/30 [==============================] - 1s 36ms/step - loss: 0.3579 - accuracy: 0.8703 - val_loss: 0.3317 - val_accuracy: 0.8787\n",
            "Epoch 6/20\n",
            "30/30 [==============================] - 1s 31ms/step - loss: 0.3199 - accuracy: 0.8995 - val_loss: 0.3171 - val_accuracy: 0.8854\n",
            "Epoch 7/20\n",
            "30/30 [==============================] - 1s 42ms/step - loss: 0.2863 - accuracy: 0.9171 - val_loss: 0.2924 - val_accuracy: 0.8896\n",
            "Epoch 8/20\n",
            "30/30 [==============================] - 2s 55ms/step - loss: 0.2614 - accuracy: 0.9253 - val_loss: 0.2969 - val_accuracy: 0.8905\n",
            "Epoch 9/20\n",
            "30/30 [==============================] - 2s 56ms/step - loss: 0.2372 - accuracy: 0.9389 - val_loss: 0.3055 - val_accuracy: 0.8915\n",
            "Epoch 10/20\n",
            "30/30 [==============================] - 1s 43ms/step - loss: 0.2200 - accuracy: 0.9453 - val_loss: 0.3157 - val_accuracy: 0.8879\n",
            "Epoch 11/20\n",
            "30/30 [==============================] - 1s 34ms/step - loss: 0.2007 - accuracy: 0.9511 - val_loss: 0.3241 - val_accuracy: 0.8878\n",
            "Epoch 12/20\n",
            "30/30 [==============================] - 1s 32ms/step - loss: 0.1804 - accuracy: 0.9569 - val_loss: 0.3553 - val_accuracy: 0.8864\n",
            "Epoch 13/20\n",
            "30/30 [==============================] - 1s 32ms/step - loss: 0.1745 - accuracy: 0.9615 - val_loss: 0.3643 - val_accuracy: 0.8853\n",
            "Epoch 14/20\n",
            "30/30 [==============================] - 1s 43ms/step - loss: 0.1640 - accuracy: 0.9635 - val_loss: 0.3759 - val_accuracy: 0.8846\n",
            "Epoch 15/20\n",
            "30/30 [==============================] - 1s 43ms/step - loss: 0.1500 - accuracy: 0.9687 - val_loss: 0.4259 - val_accuracy: 0.8858\n",
            "Epoch 16/20\n",
            "30/30 [==============================] - 1s 43ms/step - loss: 0.1428 - accuracy: 0.9694 - val_loss: 0.4234 - val_accuracy: 0.8818\n",
            "Epoch 17/20\n",
            "30/30 [==============================] - 1s 43ms/step - loss: 0.1370 - accuracy: 0.9724 - val_loss: 0.4409 - val_accuracy: 0.8838\n",
            "Epoch 18/20\n",
            "30/30 [==============================] - 1s 43ms/step - loss: 0.1292 - accuracy: 0.9747 - val_loss: 0.4765 - val_accuracy: 0.8837\n",
            "Epoch 19/20\n",
            "30/30 [==============================] - 1s 41ms/step - loss: 0.1248 - accuracy: 0.9771 - val_loss: 0.5186 - val_accuracy: 0.8848\n",
            "Epoch 20/20\n",
            "30/30 [==============================] - 1s 33ms/step - loss: 0.1212 - accuracy: 0.9755 - val_loss: 0.5359 - val_accuracy: 0.8828\n"
          ]
        }
      ],
      "source": [
        "model = keras.Sequential([\n",
        "    layers.Dense(16, activation=\"relu\"),\n",
        "    layers.Dropout(0.5),\n",
        "    layers.Dense(16, activation=\"relu\"),\n",
        "    layers.Dropout(0.5),\n",
        "    layers.Dense(1, activation=\"sigmoid\")\n",
        "])\n",
        "model.compile(optimizer=\"rmsprop\",\n",
        "              loss=\"binary_crossentropy\",\n",
        "              metrics=[\"accuracy\"])\n",
        "history_dropout = model.fit(\n",
        "    train_data, train_labels,\n",
        "    epochs=20, batch_size=512, validation_split=0.4)"
      ]
    },
    {
      "cell_type": "markdown",
      "metadata": {
        "id": "EzP1wTi62Zzm"
      },
      "source": [
        "## Summary"
      ]
    }
  ],
  "metadata": {
    "colab": {
      "collapsed_sections": [],
      "provenance": [],
      "toc_visible": true,
      "include_colab_link": true
    },
    "kernelspec": {
      "display_name": "Python 3",
      "language": "python",
      "name": "python3"
    },
    "language_info": {
      "codemirror_mode": {
        "name": "ipython",
        "version": 3
      },
      "file_extension": ".py",
      "mimetype": "text/x-python",
      "name": "python",
      "nbconvert_exporter": "python",
      "pygments_lexer": "ipython3",
      "version": "3.7.0"
    }
  },
  "nbformat": 4,
  "nbformat_minor": 0
}